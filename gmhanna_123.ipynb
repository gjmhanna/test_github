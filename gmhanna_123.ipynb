{
 "cells": [
  {
   "cell_type": "markdown",
   "id": "32ae4178-cec9-44ac-8790-f558c9b72544",
   "metadata": {},
   "source": [
    "My Room"
   ]
  },
  {
   "cell_type": "code",
   "execution_count": 1,
   "id": "1f138b1b-e9ac-4f01-aa35-6dbf42999dad",
   "metadata": {},
   "outputs": [
    {
     "ename": "SyntaxError",
     "evalue": "invalid syntax (<ipython-input-1-3ae1d5cb43f9>, line 1)",
     "output_type": "error",
     "traceback": [
      "\u001b[0;36m  File \u001b[0;32m\"<ipython-input-1-3ae1d5cb43f9>\"\u001b[0;36m, line \u001b[0;32m1\u001b[0m\n\u001b[0;31m    Good Morning\u001b[0m\n\u001b[0m               ^\u001b[0m\n\u001b[0;31mSyntaxError\u001b[0m\u001b[0;31m:\u001b[0m invalid syntax\n"
     ]
    }
   ],
   "source": [
    "Good Morning"
   ]
  },
  {
   "cell_type": "code",
   "execution_count": 2,
   "id": "4ea1bbc8-ec13-4b8b-9c15-20ac59343de5",
   "metadata": {},
   "outputs": [
    {
     "ename": "NameError",
     "evalue": "name 'Holiday' is not defined",
     "output_type": "error",
     "traceback": [
      "\u001b[0;31m---------------------------------------------------------------------------\u001b[0m",
      "\u001b[0;31mNameError\u001b[0m                                 Traceback (most recent call last)",
      "\u001b[0;32m<ipython-input-2-ce8bd81525bc>\u001b[0m in \u001b[0;36m<module>\u001b[0;34m\u001b[0m\n\u001b[0;32m----> 1\u001b[0;31m \u001b[0mHoliday\u001b[0m\u001b[0;34m\u001b[0m\u001b[0;34m\u001b[0m\u001b[0m\n\u001b[0m",
      "\u001b[0;31mNameError\u001b[0m: name 'Holiday' is not defined"
     ]
    }
   ],
   "source": [
    "Holiday"
   ]
  },
  {
   "cell_type": "code",
   "execution_count": 4,
   "id": "56cfe153-9cf6-4d32-973e-11c9d9f4d27c",
   "metadata": {},
   "outputs": [
    {
     "ename": "SyntaxError",
     "evalue": "invalid syntax (<ipython-input-4-1f2fcd8b8678>, line 1)",
     "output_type": "error",
     "traceback": [
      "\u001b[0;36m  File \u001b[0;32m\"<ipython-input-4-1f2fcd8b8678>\"\u001b[0;36m, line \u001b[0;32m1\u001b[0m\n\u001b[0;31m    My Title\u001b[0m\n\u001b[0m           ^\u001b[0m\n\u001b[0;31mSyntaxError\u001b[0m\u001b[0;31m:\u001b[0m invalid syntax\n"
     ]
    }
   ],
   "source": [
    "My Title"
   ]
  },
  {
   "cell_type": "code",
   "execution_count": 5,
   "id": "def51ee0-2042-41c8-b586-dcb0c6269fff",
   "metadata": {},
   "outputs": [
    {
     "ename": "SyntaxError",
     "evalue": "invalid syntax (<ipython-input-5-653ee3db7ec9>, line 1)",
     "output_type": "error",
     "traceback": [
      "\u001b[0;36m  File \u001b[0;32m\"<ipython-input-5-653ee3db7ec9>\"\u001b[0;36m, line \u001b[0;32m1\u001b[0m\n\u001b[0;31m    My Room\u001b[0m\n\u001b[0m          ^\u001b[0m\n\u001b[0;31mSyntaxError\u001b[0m\u001b[0;31m:\u001b[0m invalid syntax\n"
     ]
    }
   ],
   "source": [
    "My Room"
   ]
  },
  {
   "cell_type": "code",
   "execution_count": 5,
   "id": "9715b69b-c237-4b36-b511-ab70d100ae7b",
   "metadata": {},
   "outputs": [
    {
     "ename": "SyntaxError",
     "evalue": "invalid syntax (<ipython-input-5-653ee3db7ec9>, line 1)",
     "output_type": "error",
     "traceback": [
      "\u001b[0;36m  File \u001b[0;32m\"<ipython-input-5-653ee3db7ec9>\"\u001b[0;36m, line \u001b[0;32m1\u001b[0m\n\u001b[0;31m    My Room\u001b[0m\n\u001b[0m          ^\u001b[0m\n\u001b[0;31mSyntaxError\u001b[0m\u001b[0;31m:\u001b[0m invalid syntax\n"
     ]
    }
   ],
   "source": [
    "My Room"
   ]
  },
  {
   "cell_type": "code",
   "execution_count": null,
   "id": "b5da0fdb-1fc5-4109-b548-6ac93d35df2d",
   "metadata": {},
   "outputs": [],
   "source": []
  },
  {
   "cell_type": "markdown",
   "id": "884233d0-beed-485f-a998-a0046378f8ec",
   "metadata": {},
   "source": [
    "My Room"
   ]
  },
  {
   "cell_type": "markdown",
   "id": "b038f3ae-6050-422d-9967-43dc2e743b55",
   "metadata": {},
   "source": [
    "Hola"
   ]
  },
  {
   "cell_type": "markdown",
   "id": "c0c9f740-ef56-4e87-b2c3-6a4fdcebc62b",
   "metadata": {},
   "source": [
    "Today is a holiday and we will enjoy spending these days along with the family"
   ]
  },
  {
   "cell_type": "code",
   "execution_count": null,
   "id": "20bffbe6-6aa9-4f51-8b52-568f6e190ff5",
   "metadata": {},
   "outputs": [],
   "source": []
  }
 ],
 "metadata": {
  "kernelspec": {
   "display_name": "Python",
   "language": "python",
   "name": "conda-env-python-py"
  },
  "language_info": {
   "codemirror_mode": {
    "name": "ipython",
    "version": 3
   },
   "file_extension": ".py",
   "mimetype": "text/x-python",
   "name": "python",
   "nbconvert_exporter": "python",
   "pygments_lexer": "ipython3",
   "version": "3.6.13"
  }
 },
 "nbformat": 4,
 "nbformat_minor": 5
}
